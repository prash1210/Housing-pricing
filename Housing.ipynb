{
 "cells": [
  {
   "cell_type": "code",
   "execution_count": 1,
   "metadata": {},
   "outputs": [
    {
     "name": "stdout",
     "output_type": "stream",
     "text": [
      "C:\\Users\\PRASANT\\Desktop\\Data Science\\Datasets\n"
     ]
    }
   ],
   "source": [
    "cd C:\\Users\\PRASANT\\Desktop\\Data Science\\Datasets"
   ]
  },
  {
   "cell_type": "code",
   "execution_count": 2,
   "metadata": {},
   "outputs": [],
   "source": [
    "import pandas as pd\n",
    "import numpy as np\n",
    "import matplotlib.pyplot as plt\n",
    "import seaborn as sns"
   ]
  },
  {
   "cell_type": "code",
   "execution_count": 3,
   "metadata": {},
   "outputs": [
    {
     "data": {
      "text/html": [
       "<div>\n",
       "<style scoped>\n",
       "    .dataframe tbody tr th:only-of-type {\n",
       "        vertical-align: middle;\n",
       "    }\n",
       "\n",
       "    .dataframe tbody tr th {\n",
       "        vertical-align: top;\n",
       "    }\n",
       "\n",
       "    .dataframe thead th {\n",
       "        text-align: right;\n",
       "    }\n",
       "</style>\n",
       "<table border=\"1\" class=\"dataframe\">\n",
       "  <thead>\n",
       "    <tr style=\"text-align: right;\">\n",
       "      <th></th>\n",
       "      <th>Unnamed: 0</th>\n",
       "      <th>price</th>\n",
       "      <th>lotsize</th>\n",
       "      <th>bedrooms</th>\n",
       "      <th>bathrms</th>\n",
       "      <th>stories</th>\n",
       "      <th>driveway</th>\n",
       "      <th>recroom</th>\n",
       "      <th>fullbase</th>\n",
       "      <th>gashw</th>\n",
       "      <th>airco</th>\n",
       "      <th>garagepl</th>\n",
       "      <th>prefarea</th>\n",
       "    </tr>\n",
       "  </thead>\n",
       "  <tbody>\n",
       "    <tr>\n",
       "      <th>0</th>\n",
       "      <td>1</td>\n",
       "      <td>42000.0</td>\n",
       "      <td>5850</td>\n",
       "      <td>3</td>\n",
       "      <td>1</td>\n",
       "      <td>2</td>\n",
       "      <td>yes</td>\n",
       "      <td>no</td>\n",
       "      <td>yes</td>\n",
       "      <td>no</td>\n",
       "      <td>no</td>\n",
       "      <td>1</td>\n",
       "      <td>no</td>\n",
       "    </tr>\n",
       "    <tr>\n",
       "      <th>1</th>\n",
       "      <td>2</td>\n",
       "      <td>38500.0</td>\n",
       "      <td>4000</td>\n",
       "      <td>2</td>\n",
       "      <td>1</td>\n",
       "      <td>1</td>\n",
       "      <td>yes</td>\n",
       "      <td>no</td>\n",
       "      <td>no</td>\n",
       "      <td>no</td>\n",
       "      <td>no</td>\n",
       "      <td>0</td>\n",
       "      <td>no</td>\n",
       "    </tr>\n",
       "    <tr>\n",
       "      <th>2</th>\n",
       "      <td>3</td>\n",
       "      <td>49500.0</td>\n",
       "      <td>3060</td>\n",
       "      <td>3</td>\n",
       "      <td>1</td>\n",
       "      <td>1</td>\n",
       "      <td>yes</td>\n",
       "      <td>no</td>\n",
       "      <td>no</td>\n",
       "      <td>no</td>\n",
       "      <td>no</td>\n",
       "      <td>0</td>\n",
       "      <td>no</td>\n",
       "    </tr>\n",
       "    <tr>\n",
       "      <th>3</th>\n",
       "      <td>4</td>\n",
       "      <td>60500.0</td>\n",
       "      <td>6650</td>\n",
       "      <td>3</td>\n",
       "      <td>1</td>\n",
       "      <td>2</td>\n",
       "      <td>yes</td>\n",
       "      <td>yes</td>\n",
       "      <td>no</td>\n",
       "      <td>no</td>\n",
       "      <td>no</td>\n",
       "      <td>0</td>\n",
       "      <td>no</td>\n",
       "    </tr>\n",
       "    <tr>\n",
       "      <th>4</th>\n",
       "      <td>5</td>\n",
       "      <td>61000.0</td>\n",
       "      <td>6360</td>\n",
       "      <td>2</td>\n",
       "      <td>1</td>\n",
       "      <td>1</td>\n",
       "      <td>yes</td>\n",
       "      <td>no</td>\n",
       "      <td>no</td>\n",
       "      <td>no</td>\n",
       "      <td>no</td>\n",
       "      <td>0</td>\n",
       "      <td>no</td>\n",
       "    </tr>\n",
       "    <tr>\n",
       "      <th>...</th>\n",
       "      <td>...</td>\n",
       "      <td>...</td>\n",
       "      <td>...</td>\n",
       "      <td>...</td>\n",
       "      <td>...</td>\n",
       "      <td>...</td>\n",
       "      <td>...</td>\n",
       "      <td>...</td>\n",
       "      <td>...</td>\n",
       "      <td>...</td>\n",
       "      <td>...</td>\n",
       "      <td>...</td>\n",
       "      <td>...</td>\n",
       "    </tr>\n",
       "    <tr>\n",
       "      <th>541</th>\n",
       "      <td>542</td>\n",
       "      <td>91500.0</td>\n",
       "      <td>4800</td>\n",
       "      <td>3</td>\n",
       "      <td>2</td>\n",
       "      <td>4</td>\n",
       "      <td>yes</td>\n",
       "      <td>yes</td>\n",
       "      <td>no</td>\n",
       "      <td>no</td>\n",
       "      <td>yes</td>\n",
       "      <td>0</td>\n",
       "      <td>no</td>\n",
       "    </tr>\n",
       "    <tr>\n",
       "      <th>542</th>\n",
       "      <td>543</td>\n",
       "      <td>94000.0</td>\n",
       "      <td>6000</td>\n",
       "      <td>3</td>\n",
       "      <td>2</td>\n",
       "      <td>4</td>\n",
       "      <td>yes</td>\n",
       "      <td>no</td>\n",
       "      <td>no</td>\n",
       "      <td>no</td>\n",
       "      <td>yes</td>\n",
       "      <td>0</td>\n",
       "      <td>no</td>\n",
       "    </tr>\n",
       "    <tr>\n",
       "      <th>543</th>\n",
       "      <td>544</td>\n",
       "      <td>103000.0</td>\n",
       "      <td>6000</td>\n",
       "      <td>3</td>\n",
       "      <td>2</td>\n",
       "      <td>4</td>\n",
       "      <td>yes</td>\n",
       "      <td>yes</td>\n",
       "      <td>no</td>\n",
       "      <td>no</td>\n",
       "      <td>yes</td>\n",
       "      <td>1</td>\n",
       "      <td>no</td>\n",
       "    </tr>\n",
       "    <tr>\n",
       "      <th>544</th>\n",
       "      <td>545</td>\n",
       "      <td>105000.0</td>\n",
       "      <td>6000</td>\n",
       "      <td>3</td>\n",
       "      <td>2</td>\n",
       "      <td>2</td>\n",
       "      <td>yes</td>\n",
       "      <td>yes</td>\n",
       "      <td>no</td>\n",
       "      <td>no</td>\n",
       "      <td>yes</td>\n",
       "      <td>1</td>\n",
       "      <td>no</td>\n",
       "    </tr>\n",
       "    <tr>\n",
       "      <th>545</th>\n",
       "      <td>546</td>\n",
       "      <td>105000.0</td>\n",
       "      <td>6000</td>\n",
       "      <td>3</td>\n",
       "      <td>1</td>\n",
       "      <td>2</td>\n",
       "      <td>yes</td>\n",
       "      <td>no</td>\n",
       "      <td>no</td>\n",
       "      <td>no</td>\n",
       "      <td>yes</td>\n",
       "      <td>1</td>\n",
       "      <td>no</td>\n",
       "    </tr>\n",
       "  </tbody>\n",
       "</table>\n",
       "<p>546 rows × 13 columns</p>\n",
       "</div>"
      ],
      "text/plain": [
       "     Unnamed: 0     price  lotsize  bedrooms  bathrms  stories driveway  \\\n",
       "0             1   42000.0     5850         3        1        2      yes   \n",
       "1             2   38500.0     4000         2        1        1      yes   \n",
       "2             3   49500.0     3060         3        1        1      yes   \n",
       "3             4   60500.0     6650         3        1        2      yes   \n",
       "4             5   61000.0     6360         2        1        1      yes   \n",
       "..          ...       ...      ...       ...      ...      ...      ...   \n",
       "541         542   91500.0     4800         3        2        4      yes   \n",
       "542         543   94000.0     6000         3        2        4      yes   \n",
       "543         544  103000.0     6000         3        2        4      yes   \n",
       "544         545  105000.0     6000         3        2        2      yes   \n",
       "545         546  105000.0     6000         3        1        2      yes   \n",
       "\n",
       "    recroom fullbase gashw airco  garagepl prefarea  \n",
       "0        no      yes    no    no         1       no  \n",
       "1        no       no    no    no         0       no  \n",
       "2        no       no    no    no         0       no  \n",
       "3       yes       no    no    no         0       no  \n",
       "4        no       no    no    no         0       no  \n",
       "..      ...      ...   ...   ...       ...      ...  \n",
       "541     yes       no    no   yes         0       no  \n",
       "542      no       no    no   yes         0       no  \n",
       "543     yes       no    no   yes         1       no  \n",
       "544     yes       no    no   yes         1       no  \n",
       "545      no       no    no   yes         1       no  \n",
       "\n",
       "[546 rows x 13 columns]"
      ]
     },
     "execution_count": 3,
     "metadata": {},
     "output_type": "execute_result"
    }
   ],
   "source": [
    "df=pd.read_csv('Housing.csv')\n",
    "df"
   ]
  },
  {
   "cell_type": "code",
   "execution_count": 4,
   "metadata": {},
   "outputs": [
    {
     "name": "stdout",
     "output_type": "stream",
     "text": [
      "<class 'pandas.core.frame.DataFrame'>\n",
      "RangeIndex: 546 entries, 0 to 545\n",
      "Data columns (total 13 columns):\n",
      " #   Column      Non-Null Count  Dtype  \n",
      "---  ------      --------------  -----  \n",
      " 0   Unnamed: 0  546 non-null    int64  \n",
      " 1   price       546 non-null    float64\n",
      " 2   lotsize     546 non-null    int64  \n",
      " 3   bedrooms    546 non-null    int64  \n",
      " 4   bathrms     546 non-null    int64  \n",
      " 5   stories     546 non-null    int64  \n",
      " 6   driveway    546 non-null    object \n",
      " 7   recroom     546 non-null    object \n",
      " 8   fullbase    546 non-null    object \n",
      " 9   gashw       546 non-null    object \n",
      " 10  airco       546 non-null    object \n",
      " 11  garagepl    546 non-null    int64  \n",
      " 12  prefarea    546 non-null    object \n",
      "dtypes: float64(1), int64(6), object(6)\n",
      "memory usage: 55.6+ KB\n"
     ]
    }
   ],
   "source": [
    "df.info()"
   ]
  },
  {
   "cell_type": "code",
   "execution_count": 5,
   "metadata": {},
   "outputs": [],
   "source": [
    "df.driveway= df.driveway.replace(('yes','no'),(1,0))"
   ]
  },
  {
   "cell_type": "code",
   "execution_count": 6,
   "metadata": {},
   "outputs": [
    {
     "data": {
      "text/html": [
       "<div>\n",
       "<style scoped>\n",
       "    .dataframe tbody tr th:only-of-type {\n",
       "        vertical-align: middle;\n",
       "    }\n",
       "\n",
       "    .dataframe tbody tr th {\n",
       "        vertical-align: top;\n",
       "    }\n",
       "\n",
       "    .dataframe thead th {\n",
       "        text-align: right;\n",
       "    }\n",
       "</style>\n",
       "<table border=\"1\" class=\"dataframe\">\n",
       "  <thead>\n",
       "    <tr style=\"text-align: right;\">\n",
       "      <th></th>\n",
       "      <th>Unnamed: 0</th>\n",
       "      <th>price</th>\n",
       "      <th>lotsize</th>\n",
       "      <th>bedrooms</th>\n",
       "      <th>bathrms</th>\n",
       "      <th>stories</th>\n",
       "      <th>driveway</th>\n",
       "      <th>recroom</th>\n",
       "      <th>fullbase</th>\n",
       "      <th>gashw</th>\n",
       "      <th>airco</th>\n",
       "      <th>garagepl</th>\n",
       "      <th>prefarea</th>\n",
       "    </tr>\n",
       "  </thead>\n",
       "  <tbody>\n",
       "    <tr>\n",
       "      <th>0</th>\n",
       "      <td>1</td>\n",
       "      <td>42000.0</td>\n",
       "      <td>5850</td>\n",
       "      <td>3</td>\n",
       "      <td>1</td>\n",
       "      <td>2</td>\n",
       "      <td>1</td>\n",
       "      <td>no</td>\n",
       "      <td>yes</td>\n",
       "      <td>no</td>\n",
       "      <td>no</td>\n",
       "      <td>1</td>\n",
       "      <td>no</td>\n",
       "    </tr>\n",
       "    <tr>\n",
       "      <th>1</th>\n",
       "      <td>2</td>\n",
       "      <td>38500.0</td>\n",
       "      <td>4000</td>\n",
       "      <td>2</td>\n",
       "      <td>1</td>\n",
       "      <td>1</td>\n",
       "      <td>1</td>\n",
       "      <td>no</td>\n",
       "      <td>no</td>\n",
       "      <td>no</td>\n",
       "      <td>no</td>\n",
       "      <td>0</td>\n",
       "      <td>no</td>\n",
       "    </tr>\n",
       "    <tr>\n",
       "      <th>2</th>\n",
       "      <td>3</td>\n",
       "      <td>49500.0</td>\n",
       "      <td>3060</td>\n",
       "      <td>3</td>\n",
       "      <td>1</td>\n",
       "      <td>1</td>\n",
       "      <td>1</td>\n",
       "      <td>no</td>\n",
       "      <td>no</td>\n",
       "      <td>no</td>\n",
       "      <td>no</td>\n",
       "      <td>0</td>\n",
       "      <td>no</td>\n",
       "    </tr>\n",
       "    <tr>\n",
       "      <th>3</th>\n",
       "      <td>4</td>\n",
       "      <td>60500.0</td>\n",
       "      <td>6650</td>\n",
       "      <td>3</td>\n",
       "      <td>1</td>\n",
       "      <td>2</td>\n",
       "      <td>1</td>\n",
       "      <td>yes</td>\n",
       "      <td>no</td>\n",
       "      <td>no</td>\n",
       "      <td>no</td>\n",
       "      <td>0</td>\n",
       "      <td>no</td>\n",
       "    </tr>\n",
       "    <tr>\n",
       "      <th>4</th>\n",
       "      <td>5</td>\n",
       "      <td>61000.0</td>\n",
       "      <td>6360</td>\n",
       "      <td>2</td>\n",
       "      <td>1</td>\n",
       "      <td>1</td>\n",
       "      <td>1</td>\n",
       "      <td>no</td>\n",
       "      <td>no</td>\n",
       "      <td>no</td>\n",
       "      <td>no</td>\n",
       "      <td>0</td>\n",
       "      <td>no</td>\n",
       "    </tr>\n",
       "  </tbody>\n",
       "</table>\n",
       "</div>"
      ],
      "text/plain": [
       "   Unnamed: 0    price  lotsize  bedrooms  bathrms  stories  driveway recroom  \\\n",
       "0           1  42000.0     5850         3        1        2         1      no   \n",
       "1           2  38500.0     4000         2        1        1         1      no   \n",
       "2           3  49500.0     3060         3        1        1         1      no   \n",
       "3           4  60500.0     6650         3        1        2         1     yes   \n",
       "4           5  61000.0     6360         2        1        1         1      no   \n",
       "\n",
       "  fullbase gashw airco  garagepl prefarea  \n",
       "0      yes    no    no         1       no  \n",
       "1       no    no    no         0       no  \n",
       "2       no    no    no         0       no  \n",
       "3       no    no    no         0       no  \n",
       "4       no    no    no         0       no  "
      ]
     },
     "execution_count": 6,
     "metadata": {},
     "output_type": "execute_result"
    }
   ],
   "source": [
    "df.head()"
   ]
  },
  {
   "cell_type": "code",
   "execution_count": 7,
   "metadata": {},
   "outputs": [],
   "source": [
    "df.recroom= df.recroom.replace(('yes','no'),(1,0))\n",
    "df.fullbase= df.fullbase.replace(('yes','no'),(1,0))\n",
    "df.gashw= df.gashw.replace(('yes','no'),(1,0))\n",
    "df.airco= df.airco.replace(('yes','no'),(1,0))\n"
   ]
  },
  {
   "cell_type": "code",
   "execution_count": 8,
   "metadata": {},
   "outputs": [
    {
     "data": {
      "text/html": [
       "<div>\n",
       "<style scoped>\n",
       "    .dataframe tbody tr th:only-of-type {\n",
       "        vertical-align: middle;\n",
       "    }\n",
       "\n",
       "    .dataframe tbody tr th {\n",
       "        vertical-align: top;\n",
       "    }\n",
       "\n",
       "    .dataframe thead th {\n",
       "        text-align: right;\n",
       "    }\n",
       "</style>\n",
       "<table border=\"1\" class=\"dataframe\">\n",
       "  <thead>\n",
       "    <tr style=\"text-align: right;\">\n",
       "      <th></th>\n",
       "      <th>Unnamed: 0</th>\n",
       "      <th>price</th>\n",
       "      <th>lotsize</th>\n",
       "      <th>bedrooms</th>\n",
       "      <th>bathrms</th>\n",
       "      <th>stories</th>\n",
       "      <th>driveway</th>\n",
       "      <th>recroom</th>\n",
       "      <th>fullbase</th>\n",
       "      <th>gashw</th>\n",
       "      <th>airco</th>\n",
       "      <th>garagepl</th>\n",
       "      <th>prefarea</th>\n",
       "    </tr>\n",
       "  </thead>\n",
       "  <tbody>\n",
       "    <tr>\n",
       "      <th>0</th>\n",
       "      <td>1</td>\n",
       "      <td>42000.0</td>\n",
       "      <td>5850</td>\n",
       "      <td>3</td>\n",
       "      <td>1</td>\n",
       "      <td>2</td>\n",
       "      <td>1</td>\n",
       "      <td>0</td>\n",
       "      <td>1</td>\n",
       "      <td>0</td>\n",
       "      <td>0</td>\n",
       "      <td>1</td>\n",
       "      <td>no</td>\n",
       "    </tr>\n",
       "    <tr>\n",
       "      <th>1</th>\n",
       "      <td>2</td>\n",
       "      <td>38500.0</td>\n",
       "      <td>4000</td>\n",
       "      <td>2</td>\n",
       "      <td>1</td>\n",
       "      <td>1</td>\n",
       "      <td>1</td>\n",
       "      <td>0</td>\n",
       "      <td>0</td>\n",
       "      <td>0</td>\n",
       "      <td>0</td>\n",
       "      <td>0</td>\n",
       "      <td>no</td>\n",
       "    </tr>\n",
       "    <tr>\n",
       "      <th>2</th>\n",
       "      <td>3</td>\n",
       "      <td>49500.0</td>\n",
       "      <td>3060</td>\n",
       "      <td>3</td>\n",
       "      <td>1</td>\n",
       "      <td>1</td>\n",
       "      <td>1</td>\n",
       "      <td>0</td>\n",
       "      <td>0</td>\n",
       "      <td>0</td>\n",
       "      <td>0</td>\n",
       "      <td>0</td>\n",
       "      <td>no</td>\n",
       "    </tr>\n",
       "    <tr>\n",
       "      <th>3</th>\n",
       "      <td>4</td>\n",
       "      <td>60500.0</td>\n",
       "      <td>6650</td>\n",
       "      <td>3</td>\n",
       "      <td>1</td>\n",
       "      <td>2</td>\n",
       "      <td>1</td>\n",
       "      <td>1</td>\n",
       "      <td>0</td>\n",
       "      <td>0</td>\n",
       "      <td>0</td>\n",
       "      <td>0</td>\n",
       "      <td>no</td>\n",
       "    </tr>\n",
       "    <tr>\n",
       "      <th>4</th>\n",
       "      <td>5</td>\n",
       "      <td>61000.0</td>\n",
       "      <td>6360</td>\n",
       "      <td>2</td>\n",
       "      <td>1</td>\n",
       "      <td>1</td>\n",
       "      <td>1</td>\n",
       "      <td>0</td>\n",
       "      <td>0</td>\n",
       "      <td>0</td>\n",
       "      <td>0</td>\n",
       "      <td>0</td>\n",
       "      <td>no</td>\n",
       "    </tr>\n",
       "  </tbody>\n",
       "</table>\n",
       "</div>"
      ],
      "text/plain": [
       "   Unnamed: 0    price  lotsize  bedrooms  bathrms  stories  driveway  \\\n",
       "0           1  42000.0     5850         3        1        2         1   \n",
       "1           2  38500.0     4000         2        1        1         1   \n",
       "2           3  49500.0     3060         3        1        1         1   \n",
       "3           4  60500.0     6650         3        1        2         1   \n",
       "4           5  61000.0     6360         2        1        1         1   \n",
       "\n",
       "   recroom  fullbase  gashw  airco  garagepl prefarea  \n",
       "0        0         1      0      0         1       no  \n",
       "1        0         0      0      0         0       no  \n",
       "2        0         0      0      0         0       no  \n",
       "3        1         0      0      0         0       no  \n",
       "4        0         0      0      0         0       no  "
      ]
     },
     "execution_count": 8,
     "metadata": {},
     "output_type": "execute_result"
    }
   ],
   "source": [
    "df.head()"
   ]
  },
  {
   "cell_type": "code",
   "execution_count": 9,
   "metadata": {},
   "outputs": [
    {
     "data": {
      "text/html": [
       "<div>\n",
       "<style scoped>\n",
       "    .dataframe tbody tr th:only-of-type {\n",
       "        vertical-align: middle;\n",
       "    }\n",
       "\n",
       "    .dataframe tbody tr th {\n",
       "        vertical-align: top;\n",
       "    }\n",
       "\n",
       "    .dataframe thead th {\n",
       "        text-align: right;\n",
       "    }\n",
       "</style>\n",
       "<table border=\"1\" class=\"dataframe\">\n",
       "  <thead>\n",
       "    <tr style=\"text-align: right;\">\n",
       "      <th></th>\n",
       "      <th>Unnamed: 0</th>\n",
       "      <th>price</th>\n",
       "      <th>lotsize</th>\n",
       "      <th>bedrooms</th>\n",
       "      <th>bathrms</th>\n",
       "      <th>stories</th>\n",
       "      <th>driveway</th>\n",
       "      <th>recroom</th>\n",
       "      <th>fullbase</th>\n",
       "      <th>gashw</th>\n",
       "      <th>airco</th>\n",
       "      <th>garagepl</th>\n",
       "    </tr>\n",
       "  </thead>\n",
       "  <tbody>\n",
       "    <tr>\n",
       "      <th>count</th>\n",
       "      <td>546.000000</td>\n",
       "      <td>546.000000</td>\n",
       "      <td>546.000000</td>\n",
       "      <td>546.000000</td>\n",
       "      <td>546.000000</td>\n",
       "      <td>546.000000</td>\n",
       "      <td>546.000000</td>\n",
       "      <td>546.000000</td>\n",
       "      <td>546.000000</td>\n",
       "      <td>546.000000</td>\n",
       "      <td>546.000000</td>\n",
       "      <td>546.000000</td>\n",
       "    </tr>\n",
       "    <tr>\n",
       "      <th>mean</th>\n",
       "      <td>273.500000</td>\n",
       "      <td>68121.597070</td>\n",
       "      <td>5150.265568</td>\n",
       "      <td>2.965201</td>\n",
       "      <td>1.285714</td>\n",
       "      <td>1.807692</td>\n",
       "      <td>0.858974</td>\n",
       "      <td>0.177656</td>\n",
       "      <td>0.349817</td>\n",
       "      <td>0.045788</td>\n",
       "      <td>0.316850</td>\n",
       "      <td>0.692308</td>\n",
       "    </tr>\n",
       "    <tr>\n",
       "      <th>std</th>\n",
       "      <td>157.760895</td>\n",
       "      <td>26702.670926</td>\n",
       "      <td>2168.158725</td>\n",
       "      <td>0.737388</td>\n",
       "      <td>0.502158</td>\n",
       "      <td>0.868203</td>\n",
       "      <td>0.348367</td>\n",
       "      <td>0.382573</td>\n",
       "      <td>0.477349</td>\n",
       "      <td>0.209216</td>\n",
       "      <td>0.465675</td>\n",
       "      <td>0.861307</td>\n",
       "    </tr>\n",
       "    <tr>\n",
       "      <th>min</th>\n",
       "      <td>1.000000</td>\n",
       "      <td>25000.000000</td>\n",
       "      <td>1650.000000</td>\n",
       "      <td>1.000000</td>\n",
       "      <td>1.000000</td>\n",
       "      <td>1.000000</td>\n",
       "      <td>0.000000</td>\n",
       "      <td>0.000000</td>\n",
       "      <td>0.000000</td>\n",
       "      <td>0.000000</td>\n",
       "      <td>0.000000</td>\n",
       "      <td>0.000000</td>\n",
       "    </tr>\n",
       "    <tr>\n",
       "      <th>25%</th>\n",
       "      <td>137.250000</td>\n",
       "      <td>49125.000000</td>\n",
       "      <td>3600.000000</td>\n",
       "      <td>2.000000</td>\n",
       "      <td>1.000000</td>\n",
       "      <td>1.000000</td>\n",
       "      <td>1.000000</td>\n",
       "      <td>0.000000</td>\n",
       "      <td>0.000000</td>\n",
       "      <td>0.000000</td>\n",
       "      <td>0.000000</td>\n",
       "      <td>0.000000</td>\n",
       "    </tr>\n",
       "    <tr>\n",
       "      <th>50%</th>\n",
       "      <td>273.500000</td>\n",
       "      <td>62000.000000</td>\n",
       "      <td>4600.000000</td>\n",
       "      <td>3.000000</td>\n",
       "      <td>1.000000</td>\n",
       "      <td>2.000000</td>\n",
       "      <td>1.000000</td>\n",
       "      <td>0.000000</td>\n",
       "      <td>0.000000</td>\n",
       "      <td>0.000000</td>\n",
       "      <td>0.000000</td>\n",
       "      <td>0.000000</td>\n",
       "    </tr>\n",
       "    <tr>\n",
       "      <th>75%</th>\n",
       "      <td>409.750000</td>\n",
       "      <td>82000.000000</td>\n",
       "      <td>6360.000000</td>\n",
       "      <td>3.000000</td>\n",
       "      <td>2.000000</td>\n",
       "      <td>2.000000</td>\n",
       "      <td>1.000000</td>\n",
       "      <td>0.000000</td>\n",
       "      <td>1.000000</td>\n",
       "      <td>0.000000</td>\n",
       "      <td>1.000000</td>\n",
       "      <td>1.000000</td>\n",
       "    </tr>\n",
       "    <tr>\n",
       "      <th>max</th>\n",
       "      <td>546.000000</td>\n",
       "      <td>190000.000000</td>\n",
       "      <td>16200.000000</td>\n",
       "      <td>6.000000</td>\n",
       "      <td>4.000000</td>\n",
       "      <td>4.000000</td>\n",
       "      <td>1.000000</td>\n",
       "      <td>1.000000</td>\n",
       "      <td>1.000000</td>\n",
       "      <td>1.000000</td>\n",
       "      <td>1.000000</td>\n",
       "      <td>3.000000</td>\n",
       "    </tr>\n",
       "  </tbody>\n",
       "</table>\n",
       "</div>"
      ],
      "text/plain": [
       "       Unnamed: 0          price       lotsize    bedrooms     bathrms  \\\n",
       "count  546.000000     546.000000    546.000000  546.000000  546.000000   \n",
       "mean   273.500000   68121.597070   5150.265568    2.965201    1.285714   \n",
       "std    157.760895   26702.670926   2168.158725    0.737388    0.502158   \n",
       "min      1.000000   25000.000000   1650.000000    1.000000    1.000000   \n",
       "25%    137.250000   49125.000000   3600.000000    2.000000    1.000000   \n",
       "50%    273.500000   62000.000000   4600.000000    3.000000    1.000000   \n",
       "75%    409.750000   82000.000000   6360.000000    3.000000    2.000000   \n",
       "max    546.000000  190000.000000  16200.000000    6.000000    4.000000   \n",
       "\n",
       "          stories    driveway     recroom    fullbase       gashw       airco  \\\n",
       "count  546.000000  546.000000  546.000000  546.000000  546.000000  546.000000   \n",
       "mean     1.807692    0.858974    0.177656    0.349817    0.045788    0.316850   \n",
       "std      0.868203    0.348367    0.382573    0.477349    0.209216    0.465675   \n",
       "min      1.000000    0.000000    0.000000    0.000000    0.000000    0.000000   \n",
       "25%      1.000000    1.000000    0.000000    0.000000    0.000000    0.000000   \n",
       "50%      2.000000    1.000000    0.000000    0.000000    0.000000    0.000000   \n",
       "75%      2.000000    1.000000    0.000000    1.000000    0.000000    1.000000   \n",
       "max      4.000000    1.000000    1.000000    1.000000    1.000000    1.000000   \n",
       "\n",
       "         garagepl  \n",
       "count  546.000000  \n",
       "mean     0.692308  \n",
       "std      0.861307  \n",
       "min      0.000000  \n",
       "25%      0.000000  \n",
       "50%      0.000000  \n",
       "75%      1.000000  \n",
       "max      3.000000  "
      ]
     },
     "execution_count": 9,
     "metadata": {},
     "output_type": "execute_result"
    }
   ],
   "source": [
    "df.describe()"
   ]
  },
  {
   "cell_type": "code",
   "execution_count": 10,
   "metadata": {},
   "outputs": [
    {
     "data": {
      "text/html": [
       "<div>\n",
       "<style scoped>\n",
       "    .dataframe tbody tr th:only-of-type {\n",
       "        vertical-align: middle;\n",
       "    }\n",
       "\n",
       "    .dataframe tbody tr th {\n",
       "        vertical-align: top;\n",
       "    }\n",
       "\n",
       "    .dataframe thead th {\n",
       "        text-align: right;\n",
       "    }\n",
       "</style>\n",
       "<table border=\"1\" class=\"dataframe\">\n",
       "  <thead>\n",
       "    <tr style=\"text-align: right;\">\n",
       "      <th></th>\n",
       "      <th>Unnamed: 0</th>\n",
       "      <th>price</th>\n",
       "      <th>lotsize</th>\n",
       "      <th>bedrooms</th>\n",
       "      <th>bathrms</th>\n",
       "      <th>stories</th>\n",
       "      <th>driveway</th>\n",
       "      <th>recroom</th>\n",
       "      <th>fullbase</th>\n",
       "      <th>gashw</th>\n",
       "      <th>airco</th>\n",
       "      <th>garagepl</th>\n",
       "    </tr>\n",
       "  </thead>\n",
       "  <tbody>\n",
       "    <tr>\n",
       "      <th>Unnamed: 0</th>\n",
       "      <td>1.000000</td>\n",
       "      <td>0.376007</td>\n",
       "      <td>0.374338</td>\n",
       "      <td>0.114219</td>\n",
       "      <td>0.108395</td>\n",
       "      <td>0.231427</td>\n",
       "      <td>0.314014</td>\n",
       "      <td>0.096721</td>\n",
       "      <td>-0.002034</td>\n",
       "      <td>-0.033494</td>\n",
       "      <td>0.157111</td>\n",
       "      <td>0.125326</td>\n",
       "    </tr>\n",
       "    <tr>\n",
       "      <th>price</th>\n",
       "      <td>0.376007</td>\n",
       "      <td>1.000000</td>\n",
       "      <td>0.535796</td>\n",
       "      <td>0.366447</td>\n",
       "      <td>0.516719</td>\n",
       "      <td>0.421190</td>\n",
       "      <td>0.297167</td>\n",
       "      <td>0.254960</td>\n",
       "      <td>0.186218</td>\n",
       "      <td>0.092837</td>\n",
       "      <td>0.453347</td>\n",
       "      <td>0.383302</td>\n",
       "    </tr>\n",
       "    <tr>\n",
       "      <th>lotsize</th>\n",
       "      <td>0.374338</td>\n",
       "      <td>0.535796</td>\n",
       "      <td>1.000000</td>\n",
       "      <td>0.151851</td>\n",
       "      <td>0.193833</td>\n",
       "      <td>0.083675</td>\n",
       "      <td>0.288778</td>\n",
       "      <td>0.140327</td>\n",
       "      <td>0.047487</td>\n",
       "      <td>-0.009201</td>\n",
       "      <td>0.221765</td>\n",
       "      <td>0.352872</td>\n",
       "    </tr>\n",
       "    <tr>\n",
       "      <th>bedrooms</th>\n",
       "      <td>0.114219</td>\n",
       "      <td>0.366447</td>\n",
       "      <td>0.151851</td>\n",
       "      <td>1.000000</td>\n",
       "      <td>0.373769</td>\n",
       "      <td>0.407974</td>\n",
       "      <td>-0.011996</td>\n",
       "      <td>0.080492</td>\n",
       "      <td>0.097201</td>\n",
       "      <td>0.046028</td>\n",
       "      <td>0.160412</td>\n",
       "      <td>0.139117</td>\n",
       "    </tr>\n",
       "    <tr>\n",
       "      <th>bathrms</th>\n",
       "      <td>0.108395</td>\n",
       "      <td>0.516719</td>\n",
       "      <td>0.193833</td>\n",
       "      <td>0.373769</td>\n",
       "      <td>1.000000</td>\n",
       "      <td>0.324066</td>\n",
       "      <td>0.041955</td>\n",
       "      <td>0.126892</td>\n",
       "      <td>0.102791</td>\n",
       "      <td>0.067365</td>\n",
       "      <td>0.184955</td>\n",
       "      <td>0.178178</td>\n",
       "    </tr>\n",
       "    <tr>\n",
       "      <th>stories</th>\n",
       "      <td>0.231427</td>\n",
       "      <td>0.421190</td>\n",
       "      <td>0.083675</td>\n",
       "      <td>0.407974</td>\n",
       "      <td>0.324066</td>\n",
       "      <td>1.000000</td>\n",
       "      <td>0.122499</td>\n",
       "      <td>0.042281</td>\n",
       "      <td>-0.173860</td>\n",
       "      <td>0.018261</td>\n",
       "      <td>0.296216</td>\n",
       "      <td>0.043412</td>\n",
       "    </tr>\n",
       "    <tr>\n",
       "      <th>driveway</th>\n",
       "      <td>0.314014</td>\n",
       "      <td>0.297167</td>\n",
       "      <td>0.288778</td>\n",
       "      <td>-0.011996</td>\n",
       "      <td>0.041955</td>\n",
       "      <td>0.122499</td>\n",
       "      <td>1.000000</td>\n",
       "      <td>0.091959</td>\n",
       "      <td>0.043428</td>\n",
       "      <td>-0.011942</td>\n",
       "      <td>0.106290</td>\n",
       "      <td>0.203682</td>\n",
       "    </tr>\n",
       "    <tr>\n",
       "      <th>recroom</th>\n",
       "      <td>0.096721</td>\n",
       "      <td>0.254960</td>\n",
       "      <td>0.140327</td>\n",
       "      <td>0.080492</td>\n",
       "      <td>0.126892</td>\n",
       "      <td>0.042281</td>\n",
       "      <td>0.091959</td>\n",
       "      <td>1.000000</td>\n",
       "      <td>0.372434</td>\n",
       "      <td>-0.010119</td>\n",
       "      <td>0.136626</td>\n",
       "      <td>0.038122</td>\n",
       "    </tr>\n",
       "    <tr>\n",
       "      <th>fullbase</th>\n",
       "      <td>-0.002034</td>\n",
       "      <td>0.186218</td>\n",
       "      <td>0.047487</td>\n",
       "      <td>0.097201</td>\n",
       "      <td>0.102791</td>\n",
       "      <td>-0.173860</td>\n",
       "      <td>0.043428</td>\n",
       "      <td>0.372434</td>\n",
       "      <td>1.000000</td>\n",
       "      <td>0.004677</td>\n",
       "      <td>0.045248</td>\n",
       "      <td>0.052524</td>\n",
       "    </tr>\n",
       "    <tr>\n",
       "      <th>gashw</th>\n",
       "      <td>-0.033494</td>\n",
       "      <td>0.092837</td>\n",
       "      <td>-0.009201</td>\n",
       "      <td>0.046028</td>\n",
       "      <td>0.067365</td>\n",
       "      <td>0.018261</td>\n",
       "      <td>-0.011942</td>\n",
       "      <td>-0.010119</td>\n",
       "      <td>0.004677</td>\n",
       "      <td>1.000000</td>\n",
       "      <td>-0.130350</td>\n",
       "      <td>0.068144</td>\n",
       "    </tr>\n",
       "    <tr>\n",
       "      <th>airco</th>\n",
       "      <td>0.157111</td>\n",
       "      <td>0.453347</td>\n",
       "      <td>0.221765</td>\n",
       "      <td>0.160412</td>\n",
       "      <td>0.184955</td>\n",
       "      <td>0.296216</td>\n",
       "      <td>0.106290</td>\n",
       "      <td>0.136626</td>\n",
       "      <td>0.045248</td>\n",
       "      <td>-0.130350</td>\n",
       "      <td>1.000000</td>\n",
       "      <td>0.156596</td>\n",
       "    </tr>\n",
       "    <tr>\n",
       "      <th>garagepl</th>\n",
       "      <td>0.125326</td>\n",
       "      <td>0.383302</td>\n",
       "      <td>0.352872</td>\n",
       "      <td>0.139117</td>\n",
       "      <td>0.178178</td>\n",
       "      <td>0.043412</td>\n",
       "      <td>0.203682</td>\n",
       "      <td>0.038122</td>\n",
       "      <td>0.052524</td>\n",
       "      <td>0.068144</td>\n",
       "      <td>0.156596</td>\n",
       "      <td>1.000000</td>\n",
       "    </tr>\n",
       "  </tbody>\n",
       "</table>\n",
       "</div>"
      ],
      "text/plain": [
       "            Unnamed: 0     price   lotsize  bedrooms   bathrms   stories  \\\n",
       "Unnamed: 0    1.000000  0.376007  0.374338  0.114219  0.108395  0.231427   \n",
       "price         0.376007  1.000000  0.535796  0.366447  0.516719  0.421190   \n",
       "lotsize       0.374338  0.535796  1.000000  0.151851  0.193833  0.083675   \n",
       "bedrooms      0.114219  0.366447  0.151851  1.000000  0.373769  0.407974   \n",
       "bathrms       0.108395  0.516719  0.193833  0.373769  1.000000  0.324066   \n",
       "stories       0.231427  0.421190  0.083675  0.407974  0.324066  1.000000   \n",
       "driveway      0.314014  0.297167  0.288778 -0.011996  0.041955  0.122499   \n",
       "recroom       0.096721  0.254960  0.140327  0.080492  0.126892  0.042281   \n",
       "fullbase     -0.002034  0.186218  0.047487  0.097201  0.102791 -0.173860   \n",
       "gashw        -0.033494  0.092837 -0.009201  0.046028  0.067365  0.018261   \n",
       "airco         0.157111  0.453347  0.221765  0.160412  0.184955  0.296216   \n",
       "garagepl      0.125326  0.383302  0.352872  0.139117  0.178178  0.043412   \n",
       "\n",
       "            driveway   recroom  fullbase     gashw     airco  garagepl  \n",
       "Unnamed: 0  0.314014  0.096721 -0.002034 -0.033494  0.157111  0.125326  \n",
       "price       0.297167  0.254960  0.186218  0.092837  0.453347  0.383302  \n",
       "lotsize     0.288778  0.140327  0.047487 -0.009201  0.221765  0.352872  \n",
       "bedrooms   -0.011996  0.080492  0.097201  0.046028  0.160412  0.139117  \n",
       "bathrms     0.041955  0.126892  0.102791  0.067365  0.184955  0.178178  \n",
       "stories     0.122499  0.042281 -0.173860  0.018261  0.296216  0.043412  \n",
       "driveway    1.000000  0.091959  0.043428 -0.011942  0.106290  0.203682  \n",
       "recroom     0.091959  1.000000  0.372434 -0.010119  0.136626  0.038122  \n",
       "fullbase    0.043428  0.372434  1.000000  0.004677  0.045248  0.052524  \n",
       "gashw      -0.011942 -0.010119  0.004677  1.000000 -0.130350  0.068144  \n",
       "airco       0.106290  0.136626  0.045248 -0.130350  1.000000  0.156596  \n",
       "garagepl    0.203682  0.038122  0.052524  0.068144  0.156596  1.000000  "
      ]
     },
     "execution_count": 10,
     "metadata": {},
     "output_type": "execute_result"
    }
   ],
   "source": [
    "df.corr()"
   ]
  },
  {
   "cell_type": "code",
   "execution_count": 11,
   "metadata": {},
   "outputs": [
    {
     "data": {
      "image/png": "[encoded data removed]",
      "text/plain": [
       "<Figure size 1152x432 with 10 Axes>"
      ]
     },
     "metadata": {
      "needs_background": "light"
     },
     "output_type": "display_data"
    }
   ],
   "source": [
    "fig,axes= plt.subplots(nrows=1,ncols=10,figsize=(16,6))\n",
    "\n",
    "axes[0].plot(df['lotsize'],df['price'])\n",
    "axes[0].set_ylabel('price')\n",
    "axes[0].set_title('Impact of lotsize')\n",
    "\n",
    "axes[1].plot(df['bedrooms'],df['price'])\n",
    "axes[1].set_ylabel('price')\n",
    "axes[1].set_title('Impact of bedrooms')\n",
    "\n",
    "axes[2].plot(df['bathrms'],df['price'])\n",
    "axes[2].set_ylabel('price')\n",
    "axes[2].set_title('Impact of bathrooms ')\n",
    "\n",
    "axes[3].plot(df['stories'],df['price'])\n",
    "axes[3].set_ylabel('price')\n",
    "axes[3].set_title('Impact of stories')\n",
    "\n",
    "axes[4].plot(df['driveway'],df['price'])\n",
    "axes[4].set_ylabel('price')\n",
    "axes[4].set_title('Impact of driveway')\n",
    "\n",
    "axes[5].plot(df['recroom'],df['price'])\n",
    "axes[5].set_ylabel('price')\n",
    "axes[5].set_title('Impact of recroom')\n",
    "\n",
    "axes[6].plot(df['fullbase'],df['price'])\n",
    "axes[6].set_ylabel('price')\n",
    "axes[6].set_title('Impact of Fullbase')\n",
    "\n",
    "axes[7].plot(df['gashw'],df['price'])\n",
    "axes[7].set_ylabel('price')\n",
    "axes[7].set_title('Impact of guesthouse')\n",
    "\n",
    "axes[8].plot(df['airco'],df['price'])\n",
    "axes[8].set_ylabel('price')\n",
    "axes[8].set_title('Impact of Air conditionor')\n",
    "\n",
    "axes[9].plot(df['garagepl'],df['price'])\n",
    "axes[9].set_ylabel('price')\n",
    "axes[9].set_title('Impact of garage')\n",
    "\n",
    "plt.tight_layout()"
   ]
  },
  {
   "cell_type": "code",
   "execution_count": 12,
   "metadata": {},
   "outputs": [],
   "source": [
    "X = df.iloc[ : ,2:11].values\n",
    "y = df.iloc[ : , 1].values"
   ]
  },
  {
   "cell_type": "code",
   "execution_count": 13,
   "metadata": {},
   "outputs": [
    {
     "data": {
      "text/plain": [
       "array([[5850,    3,    1, ...,    1,    0,    0],\n",
       "       [4000,    2,    1, ...,    0,    0,    0],\n",
       "       [3060,    3,    1, ...,    0,    0,    0],\n",
       "       ...,\n",
       "       [6000,    3,    2, ...,    0,    0,    1],\n",
       "       [6000,    3,    2, ...,    0,    0,    1],\n",
       "       [6000,    3,    1, ...,    0,    0,    1]], dtype=int64)"
      ]
     },
     "execution_count": 13,
     "metadata": {},
     "output_type": "execute_result"
    }
   ],
   "source": [
    "X"
   ]
  },
  {
   "cell_type": "code",
   "execution_count": 14,
   "metadata": {},
   "outputs": [
    {
     "data": {
      "text/plain": [
       "array([ 42000.,  38500.,  49500.,  60500.,  61000.,  66000.,  66000.,\n",
       "        69000.,  83800.,  88500.,  90000.,  30500.,  27000.,  36000.,\n",
       "        37000.,  37900.,  40500.,  40750.,  45000.,  45000.,  48500.,\n",
       "        65900.,  37900.,  38000.,  42000.,  42300.,  43500.,  44000.,\n",
       "        44500.,  44900.,  45000.,  48000.,  49000.,  51500.,  61000.,\n",
       "        61000.,  61700.,  67000.,  82000.,  54500.,  66500.,  70000.,\n",
       "        82000.,  92000.,  38000.,  44000.,  41000.,  43000.,  48000.,\n",
       "        54800.,  55000.,  57000.,  68000.,  95000.,  38000.,  25000.,\n",
       "        25245.,  56000.,  35500.,  30000.,  48000.,  48000.,  52000.,\n",
       "        54000.,  56000.,  60000.,  60000.,  67000.,  47000.,  70000.,\n",
       "        45000.,  51000.,  32500.,  34000.,  35000.,  36000.,  45000.,\n",
       "        47000.,  55000.,  63900.,  50000.,  35000.,  50000.,  43000.,\n",
       "        55500.,  57000.,  60000.,  78000.,  35000.,  44000.,  47000.,\n",
       "        58000., 163000., 128000., 123500.,  39000.,  53900.,  59900.,\n",
       "        35000.,  43000.,  57000.,  79000., 125000., 132000.,  58000.,\n",
       "        43000.,  48000.,  58500.,  73000.,  63500.,  43000.,  46500.,\n",
       "        92000.,  75000.,  75000.,  85000.,  93000.,  94500., 106500.,\n",
       "       116000.,  61500.,  80000.,  37000.,  59500.,  70000.,  95000.,\n",
       "       117000., 122500., 123500., 127000.,  35000.,  44500.,  49900.,\n",
       "        50500.,  65000.,  90000.,  46000.,  35000.,  26500.,  43000.,\n",
       "        56000.,  40000.,  51000.,  51000.,  57250.,  44000.,  61000.,\n",
       "        62000.,  80000.,  50000.,  59900.,  35500.,  37000.,  42000.,\n",
       "        48000.,  60000.,  60000.,  60000.,  62000.,  63000.,  63900.,\n",
       "       130000.,  25000.,  50000.,  52900.,  62000.,  73500.,  38000.,\n",
       "        46000.,  48000.,  52500.,  32000.,  38000.,  46000.,  50000.,\n",
       "        57500.,  70000.,  69900.,  74500.,  42000.,  60000.,  50000.,\n",
       "        58000.,  63900.,  28000.,  54000.,  44700.,  47000.,  50000.,\n",
       "        57250.,  67000.,  52500.,  42000.,  57500.,  33000.,  34400.,\n",
       "        40000.,  40500.,  46500.,  52000.,  53000.,  53900.,  50000.,\n",
       "        55500.,  56000.,  60000.,  60000.,  69500.,  72000.,  92500.,\n",
       "        40500.,  42000.,  47900.,  52000.,  62000.,  41000., 138300.,\n",
       "        42000.,  47000.,  64500.,  46000.,  58000.,  70100.,  78500.,\n",
       "        87250.,  70800.,  56000.,  48000.,  68000.,  79000.,  80000.,\n",
       "        87000.,  25000.,  32500.,  36000.,  42500.,  43000.,  50000.,\n",
       "        26000.,  30000.,  34000.,  52000.,  70000.,  27000.,  32500.,\n",
       "        37200.,  38000.,  42000.,  44500.,  45000.,  48500.,  52000.,\n",
       "        53900.,  60000.,  61000.,  64500.,  71000.,  75500.,  33500.,\n",
       "        41000.,  41000.,  46200.,  48500.,  48900.,  50000.,  51000.,\n",
       "        52500.,  52500.,  54000.,  59000.,  60000.,  63000.,  64000.,\n",
       "        64900.,  65000.,  66000.,  70000.,  65500.,  57000.,  52000.,\n",
       "        54000.,  74500.,  90000.,  45000.,  45000.,  65000.,  55000.,\n",
       "        62000.,  30000.,  34000.,  38000.,  39000.,  45000.,  47000.,\n",
       "        47500.,  49000.,  50000.,  50000.,  52900.,  53000.,  55000.,\n",
       "        56000.,  58500.,  59500.,  60000.,  64000.,  67000.,  68100.,\n",
       "        70000.,  72000.,  57500.,  69900.,  70000.,  75000.,  76900.,\n",
       "        78000.,  80000.,  82000.,  83000.,  83000.,  83900.,  88500.,\n",
       "        93000.,  98000.,  98500.,  99000., 101000., 110000., 115442.,\n",
       "       120000., 124000., 175000.,  50000.,  55000.,  60000.,  61000.,\n",
       "       106000., 155000., 141000.,  62500.,  70000.,  73000.,  80000.,\n",
       "        80000.,  88000.,  49000.,  52000.,  59500.,  60000.,  64000.,\n",
       "        64500.,  68500.,  78500.,  86000.,  86900.,  75000.,  78000.,\n",
       "        95000.,  97000., 107000., 130000., 145000., 175000.,  72000.,\n",
       "        84900.,  99000., 114000., 120000., 145000.,  79000.,  82000.,\n",
       "        85000., 100500., 122000., 126500., 133000., 140000., 190000.,\n",
       "        84000.,  97000., 103500., 112500., 140000.,  74700.,  78000.,\n",
       "        78900.,  83900.,  85000.,  85000.,  86000.,  86900.,  94500.,\n",
       "        96000., 106000.,  72000.,  74500.,  77000.,  80750.,  82900.,\n",
       "        85000.,  92500.,  76000.,  77500.,  80000.,  80000.,  86000.,\n",
       "        87000.,  87500.,  89000.,  89900.,  90000.,  95000., 112000.,\n",
       "        31900.,  52000.,  90000., 100000.,  91700., 174500.,  94700.,\n",
       "        68000.,  80000.,  61100.,  62900.,  65500.,  66000.,  49500.,\n",
       "        50000.,  53500.,  58550.,  64500.,  65000.,  69000.,  73000.,\n",
       "        75000.,  75000., 132000.,  60000.,  65000.,  69000.,  51900.,\n",
       "        57000.,  65000.,  79500.,  72500., 104900., 114900., 120000.,\n",
       "        58000.,  67000.,  67000.,  69000.,  73000.,  73500.,  74900.,\n",
       "        75000.,  79500., 120900.,  44555.,  47000.,  47600.,  49000.,\n",
       "        49000.,  49000.,  49500.,  52000.,  54000.,  55000.,  55000.,\n",
       "        56000.,  60000.,  60500.,  50000.,  64900.,  93000.,  85000.,\n",
       "        61500.,  88500.,  88000.,  89000.,  89500.,  95000.,  95500.,\n",
       "        51500.,  62900., 118500.,  42900.,  44100.,  47000.,  50000.,\n",
       "        50000.,  53000.,  53000.,  54000.,  58500.,  59000.,  60000.,\n",
       "        62900.,  64000.,  65000.,  67900.,  68500.,  70000.,  70500.,\n",
       "        71500.,  71900.,  75000.,  75000.,  87000.,  64000.,  70000.,\n",
       "        47500.,  62600.,  66000.,  58900.,  53000.,  95000.,  96500.,\n",
       "       101000., 102000., 103000., 105000., 108000., 110000., 113000.,\n",
       "       120000., 105000., 106000., 107500., 108000., 113750., 120000.,\n",
       "        70000.,  71000.,  82000.,  82000.,  82500.,  83000.,  84000.,\n",
       "        85000.,  85000.,  91500.,  94000., 103000., 105000., 105000.])"
      ]
     },
     "execution_count": 14,
     "metadata": {},
     "output_type": "execute_result"
    }
   ],
   "source": [
    "y"
   ]
  },
  {
   "cell_type": "code",
   "execution_count": 15,
   "metadata": {},
   "outputs": [],
   "source": [
    "from sklearn.model_selection import train_test_split\n",
    "X_train,X_test,y_train,y_test=train_test_split(X,y,test_size=0.2,random_state=0)"
   ]
  },
  {
   "cell_type": "code",
   "execution_count": 16,
   "metadata": {},
   "outputs": [
    {
     "data": {
      "text/plain": [
       "(436, 9)"
      ]
     },
     "execution_count": 16,
     "metadata": {},
     "output_type": "execute_result"
    }
   ],
   "source": [
    "X_train.shape"
   ]
  },
  {
   "cell_type": "code",
   "execution_count": 17,
   "metadata": {},
   "outputs": [],
   "source": [
    "from sklearn.linear_model import LinearRegression"
   ]
  },
  {
   "cell_type": "code",
   "execution_count": 18,
   "metadata": {},
   "outputs": [],
   "source": [
    "model=LinearRegression()"
   ]
  },
  {
   "cell_type": "code",
   "execution_count": 19,
   "metadata": {},
   "outputs": [
    {
     "data": {
      "text/plain": [
       "LinearRegression()"
      ]
     },
     "execution_count": 19,
     "metadata": {},
     "output_type": "execute_result"
    }
   ],
   "source": [
    "model.fit(X_train,y_train)"
   ]
  },
  {
   "cell_type": "code",
   "execution_count": 21,
   "metadata": {},
   "outputs": [
    {
     "data": {
      "text/plain": [
       "-9016.08418078137"
      ]
     },
     "execution_count": 21,
     "metadata": {},
     "output_type": "execute_result"
    }
   ],
   "source": [
    "model.intercept_"
   ]
  },
  {
   "cell_type": "code",
   "execution_count": 22,
   "metadata": {},
   "outputs": [
    {
     "data": {
      "text/plain": [
       "array([4.44561410e+00, 2.38445771e+03, 1.39185230e+04, 6.98467544e+03,\n",
       "       9.80342590e+03, 4.54117327e+03, 7.07540919e+03, 1.00646758e+04,\n",
       "       1.35188955e+04])"
      ]
     },
     "execution_count": 22,
     "metadata": {},
     "output_type": "execute_result"
    }
   ],
   "source": [
    "model.coef_"
   ]
  },
  {
   "cell_type": "code",
   "execution_count": 23,
   "metadata": {},
   "outputs": [
    {
     "data": {
      "text/plain": [
       "0.6514393649070533"
      ]
     },
     "execution_count": 23,
     "metadata": {},
     "output_type": "execute_result"
    }
   ],
   "source": [
    "model.score(X_train,y_train)"
   ]
  },
  {
   "cell_type": "code",
   "execution_count": 24,
   "metadata": {},
   "outputs": [],
   "source": [
    "test_predict=model.predict(X_test)"
   ]
  },
  {
   "cell_type": "code",
   "execution_count": 25,
   "metadata": {},
   "outputs": [
    {
     "data": {
      "text/plain": [
       "array([ 68351.63767238,  84422.90162008,  65520.22957527,  60347.97190999,\n",
       "        45559.42225558,  86300.6599722 ,  48048.96615291,  67400.91714802,\n",
       "        58718.43999862,  44680.5680854 ,  49165.43097371,  65442.42871041,\n",
       "        78828.78845378, 109818.46956186,  54240.31381442,  99706.2830695 ,\n",
       "        46448.54507605,  96791.83141511,  60690.6841128 ,  50688.05238244,\n",
       "        78429.51582658, 110617.36961958,  75789.99687196,  53433.220512  ,\n",
       "        84242.91063531,  85324.21046022,  75949.36660183,  99357.9985834 ,\n",
       "        31977.22436651,  79212.24197517,  61383.98295186,  74428.1455199 ,\n",
       "        61470.49089217,  87345.06167172,  77745.66716008,  72985.70991734,\n",
       "        61666.07495595,  42681.50138406,  54137.63196498,  67849.71918779,\n",
       "       124171.5159156 ,  56467.35071554,  68314.91514105,  53966.69420428,\n",
       "        80025.1736748 ,  74495.92444797,  68306.21387762,  42703.09841245,\n",
       "        86192.33515133, 102281.64665134,  89739.29821314,  58712.80697922,\n",
       "        69801.5487633 ,  90610.77357694,  73737.73170394,  45959.52752479,\n",
       "        59657.08025533,  58241.36650656,  84168.58786857,  92724.09451144,\n",
       "        59601.51150039,  60946.92402613,  74700.53638562,  51812.98555779,\n",
       "        84114.0079404 ,  30170.69649366,  72173.7265643 ,  51549.88867987,\n",
       "        79256.69811619,  66106.97151828,  97849.72961501,  44010.08600181,\n",
       "        77755.89447468,  56907.68227585,  33177.54017415,  74288.72293544,\n",
       "        61590.44051176,  67749.91939045,  98791.52511917,  63065.45053202,\n",
       "        88123.87274225, 106926.99892653,  52850.22938348,  51966.16785821,\n",
       "        54350.62556437,  83487.98887992,  58417.36960187,  82632.60950348,\n",
       "        85541.66574837,  74023.29657001,  54540.24536487,  43665.35952277,\n",
       "        70370.17760005,  79319.39159559,  44464.19263911,  42029.3735331 ,\n",
       "        42463.66629304,  72677.6682801 ,  44241.91193399,  29843.32959737,\n",
       "        43386.13264062,  47808.67186619,  78686.13008231,  64319.91376762,\n",
       "        98307.22510796,  44241.91193399,  29592.76666035,  40435.83522023,\n",
       "        65973.60309521,  69759.73568492])"
      ]
     },
     "execution_count": 25,
     "metadata": {},
     "output_type": "execute_result"
    }
   ],
   "source": [
    "test_predict"
   ]
  },
  {
   "cell_type": "code",
   "execution_count": 26,
   "metadata": {},
   "outputs": [
    {
     "data": {
      "text/plain": [
       "array([-1.13516377e+04,  4.75770984e+04, -1.16202296e+04, -1.56479719e+04,\n",
       "        1.94405777e+04, -1.93006600e+04,  1.89510338e+04, -2.04009171e+04,\n",
       "        1.12815600e+04, -2.68056809e+03,  6.83456903e+03, -6.89242871e+03,\n",
       "       -1.88287885e+04, -1.08184696e+04,  1.07596862e+04,  2.42937169e+04,\n",
       "       -6.44854508e+03,  9.20816858e+03, -2.56906841e+04,  2.21194762e+03,\n",
       "        9.07048417e+03,  4.43826304e+04, -5.28999687e+03,  3.56677949e+03,\n",
       "       -4.24291064e+03, -1.42421046e+03, -1.84493666e+04,  4.16420014e+04,\n",
       "       -6.97722437e+03, -2.82122420e+04,  7.61601705e+03, -4.52814552e+03,\n",
       "       -1.52704909e+04,  3.11549383e+04, -2.74566716e+03, -2.18570992e+03,\n",
       "        8.33392504e+03, -1.56815014e+04, -1.62376320e+04, -7.84971919e+03,\n",
       "       -2.06715159e+04, -1.14673507e+04, -2.75649151e+04,  5.53330580e+03,\n",
       "        4.97482633e+03,  5.04075552e+02,  1.76937861e+04,  1.29690159e+03,\n",
       "       -1.61923352e+04, -3.28164665e+03, -1.02392982e+04, -4.71280698e+03,\n",
       "        1.71984512e+04, -1.91107736e+04, -1.11377317e+04,  3.04047248e+03,\n",
       "        5.34291974e+03, -1.32413665e+04, -1.11685879e+04, -7.72409451e+03,\n",
       "        2.76484885e+04, -9.46924026e+02, -1.70053639e+03, -7.81298556e+03,\n",
       "       -8.11400794e+03,  1.08293035e+04,  5.28262734e+04, -2.15498887e+04,\n",
       "       -1.33566981e+04, -7.60697152e+03, -1.98497296e+04,  2.79899140e+04,\n",
       "        5.42441055e+04, -5.90768228e+03,  2.82245983e+03,  7.11277065e+02,\n",
       "       -6.59044051e+03,  1.62500806e+04, -3.79152512e+03, -6.06545053e+03,\n",
       "        8.87612726e+03, -1.39269989e+04,  4.64977062e+03,  1.50338321e+04,\n",
       "       -1.13506256e+04,  6.01201112e+03,  6.08263040e+03,  3.67390497e+02,\n",
       "        2.69583343e+04, -5.52329657e+03,  5.45975464e+03,  1.93346405e+04,\n",
       "       -3.70177600e+02,  1.56806084e+04,  8.53580736e+03, -2.93735331e+01,\n",
       "        1.15363337e+04, -8.17766828e+03, -5.74191193e+03,  8.15667040e+03,\n",
       "       -1.63861326e+04,  2.09132813e+03,  8.21386992e+03,  9.18008623e+03,\n",
       "       -2.33072251e+04,  7.25808807e+03,  7.60723334e+03,  4.56416478e+03,\n",
       "        1.30263969e+04,  2.40264315e+02])"
      ]
     },
     "execution_count": 26,
     "metadata": {},
     "output_type": "execute_result"
    }
   ],
   "source": [
    "test_res= y_test-test_predict\n",
    "test_res"
   ]
  },
  {
   "cell_type": "code",
   "execution_count": 27,
   "metadata": {},
   "outputs": [],
   "source": [
    "from sklearn.metrics import mean_absolute_error , mean_squared_error,r2_score"
   ]
  },
  {
   "cell_type": "code",
   "execution_count": 28,
   "metadata": {},
   "outputs": [
    {
     "data": {
      "text/plain": [
       "12340.831900408151"
      ]
     },
     "execution_count": 28,
     "metadata": {},
     "output_type": "execute_result"
    }
   ],
   "source": [
    "MAE = mean_absolute_error (y_test,test_predict)\n",
    "MAE"
   ]
  },
  {
   "cell_type": "code",
   "execution_count": 29,
   "metadata": {},
   "outputs": [
    {
     "data": {
      "text/plain": [
       "268460309.6202963"
      ]
     },
     "execution_count": 29,
     "metadata": {},
     "output_type": "execute_result"
    }
   ],
   "source": [
    "MSE= mean_squared_error(y_test,test_predict)\n",
    "MSE"
   ]
  },
  {
   "cell_type": "code",
   "execution_count": 30,
   "metadata": {},
   "outputs": [
    {
     "data": {
      "text/plain": [
       "16384.758454743736"
      ]
     },
     "execution_count": 30,
     "metadata": {},
     "output_type": "execute_result"
    }
   ],
   "source": [
    "RMSE= np.sqrt(MSE)\n",
    "RMSE"
   ]
  },
  {
   "cell_type": "code",
   "execution_count": 31,
   "metadata": {},
   "outputs": [
    {
     "data": {
      "text/plain": [
       "0.571634123756968"
      ]
     },
     "execution_count": 31,
     "metadata": {},
     "output_type": "execute_result"
    }
   ],
   "source": [
    "r2_score(y_test,test_predict)"
   ]
  },
  {
   "cell_type": "code",
   "execution_count": 32,
   "metadata": {},
   "outputs": [
    {
     "data": {
      "text/plain": [
       "<seaborn.axisgrid.FacetGrid at 0xcb974f0>"
      ]
     },
     "execution_count": 32,
     "metadata": {},
     "output_type": "execute_result"
    },
    {
     "data": {
      "image/png": "[encoded data removed]",
      "text/plain": [
       "<Figure size 360x360 with 1 Axes>"
      ]
     },
     "metadata": {
      "needs_background": "light"
     },
     "output_type": "display_data"
    }
   ],
   "source": [
    "sns.displot(test_res,bins=20,kde=True)"
   ]
  },
  {
   "cell_type": "code",
   "execution_count": 33,
   "metadata": {},
   "outputs": [],
   "source": [
    "from sklearn.preprocessing import PolynomialFeatures"
   ]
  },
  {
   "cell_type": "code",
   "execution_count": 34,
   "metadata": {},
   "outputs": [],
   "source": [
    "polynomial_converter= PolynomialFeatures(degree=2,include_bias=False)"
   ]
  },
  {
   "cell_type": "code",
   "execution_count": 35,
   "metadata": {},
   "outputs": [
    {
     "data": {
      "text/plain": [
       "PolynomialFeatures(include_bias=False)"
      ]
     },
     "execution_count": 35,
     "metadata": {},
     "output_type": "execute_result"
    }
   ],
   "source": [
    "polynomial_converter.fit(X)"
   ]
  },
  {
   "cell_type": "code",
   "execution_count": 36,
   "metadata": {},
   "outputs": [
    {
     "data": {
      "text/plain": [
       "array([[5.85e+03, 3.00e+00, 1.00e+00, ..., 0.00e+00, 0.00e+00, 0.00e+00],\n",
       "       [4.00e+03, 2.00e+00, 1.00e+00, ..., 0.00e+00, 0.00e+00, 0.00e+00],\n",
       "       [3.06e+03, 3.00e+00, 1.00e+00, ..., 0.00e+00, 0.00e+00, 0.00e+00],\n",
       "       ...,\n",
       "       [6.00e+03, 3.00e+00, 2.00e+00, ..., 0.00e+00, 0.00e+00, 1.00e+00],\n",
       "       [6.00e+03, 3.00e+00, 2.00e+00, ..., 0.00e+00, 0.00e+00, 1.00e+00],\n",
       "       [6.00e+03, 3.00e+00, 1.00e+00, ..., 0.00e+00, 0.00e+00, 1.00e+00]])"
      ]
     },
     "execution_count": 36,
     "metadata": {},
     "output_type": "execute_result"
    }
   ],
   "source": [
    "polynomial_converter.transform(X)"
   ]
  },
  {
   "cell_type": "code",
   "execution_count": 37,
   "metadata": {},
   "outputs": [],
   "source": [
    "poly_features= polynomial_converter.fit_transform(X)"
   ]
  },
  {
   "cell_type": "code",
   "execution_count": 38,
   "metadata": {},
   "outputs": [],
   "source": [
    "X_train,X_test,y_train,y_test= train_test_split(poly_features,y,test_size=0.8,random_state=0)"
   ]
  },
  {
   "cell_type": "code",
   "execution_count": 39,
   "metadata": {},
   "outputs": [],
   "source": [
    "model= LinearRegression()"
   ]
  },
  {
   "cell_type": "code",
   "execution_count": 40,
   "metadata": {},
   "outputs": [
    {
     "data": {
      "text/plain": [
       "LinearRegression()"
      ]
     },
     "execution_count": 40,
     "metadata": {},
     "output_type": "execute_result"
    }
   ],
   "source": [
    "model.fit(X_train,y_train)"
   ]
  },
  {
   "cell_type": "code",
   "execution_count": 41,
   "metadata": {},
   "outputs": [],
   "source": [
    "test_predict=model.predict(X_test)"
   ]
  },
  {
   "cell_type": "code",
   "execution_count": 42,
   "metadata": {},
   "outputs": [
    {
     "data": {
      "text/plain": [
       "861569325.4946527"
      ]
     },
     "execution_count": 42,
     "metadata": {},
     "output_type": "execute_result"
    }
   ],
   "source": [
    "MSE= mean_squared_error(y_test,test_predict)\n",
    "MSE"
   ]
  },
  {
   "cell_type": "code",
   "execution_count": 43,
   "metadata": {},
   "outputs": [
    {
     "data": {
      "text/plain": [
       "29352.501179535837"
      ]
     },
     "execution_count": 43,
     "metadata": {},
     "output_type": "execute_result"
    }
   ],
   "source": [
    "rmse=np.sqrt(MSE)\n",
    "rmse"
   ]
  },
  {
   "cell_type": "code",
   "execution_count": 44,
   "metadata": {},
   "outputs": [],
   "source": [
    "train_rmse_errors = []\n",
    "\n",
    "test_rmse_errors = []\n",
    "\n",
    "for d in range(1,10):\n",
    "    polynomial_converter = PolynomialFeatures(degree= d,include_bias=False)\n",
    "\n",
    "    poly_features = polynomial_converter.fit_transform(X)\n",
    "\n",
    "    X_train,X_test,y_train,y_test=train_test_split(poly_features,y,test_size=0.2,random_state=0)\n",
    "\n",
    "    model=LinearRegression(fit_intercept=True)\n",
    "    model.fit(X_train,y_train)\n",
    "\n",
    "    train_pred=model.predict(X_train)\n",
    "    test_pred=model.predict(X_test)\n",
    "\n",
    "    train_RMSE= np.sqrt(mean_squared_error(y_train,train_pred))\n",
    "\n",
    "    test_RMSE= np.sqrt(mean_squared_error(y_test,test_pred))\n",
    "\n",
    "    train_rmse_errors.append(train_RMSE)\n",
    "    test_rmse_errors.append(test_RMSE)\n"
   ]
  },
  {
   "cell_type": "code",
   "execution_count": 45,
   "metadata": {},
   "outputs": [
    {
     "data": {
      "text/plain": [
       "[15985.956309785954,\n",
       " 14345.469899736972,\n",
       " 11379.254496754,\n",
       " 10880.8710897866,\n",
       " 11467.571235873616,\n",
       " 12669.630766479931,\n",
       " 13790.145344616702,\n",
       " 11693.013909172229,\n",
       " 13932.241081854989]"
      ]
     },
     "execution_count": 45,
     "metadata": {},
     "output_type": "execute_result"
    }
   ],
   "source": [
    "train_rmse_errors"
   ]
  },
  {
   "cell_type": "code",
   "execution_count": 46,
   "metadata": {},
   "outputs": [
    {
     "data": {
      "text/plain": [
       "[16384.758454743736,\n",
       " 16727.827508873208,\n",
       " 66755.18339359172,\n",
       " 239047.88653040794,\n",
       " 669324.3652465297,\n",
       " 2474741.2157477858,\n",
       " 4680546.338082947,\n",
       " 5529779.330880111,\n",
       " 1406827.335595287]"
      ]
     },
     "execution_count": 46,
     "metadata": {},
     "output_type": "execute_result"
    }
   ],
   "source": [
    "test_rmse_errors"
   ]
  },
  {
   "cell_type": "code",
   "execution_count": 47,
   "metadata": {},
   "outputs": [
    {
     "data": {
      "text/plain": [
       "<matplotlib.legend.Legend at 0xc6bb5b0>"
      ]
     },
     "execution_count": 47,
     "metadata": {},
     "output_type": "execute_result"
    },
    {
     "data": {
      "image/png": "[encoded data removed]",
      "text/plain": [
       "<Figure size 432x288 with 1 Axes>"
      ]
     },
     "metadata": {
      "needs_background": "light"
     },
     "output_type": "display_data"
    }
   ],
   "source": [
    "plt.plot(range(1,10),train_rmse_errors[:10],label=\"Train\")\n",
    "plt.plot(range(1,10),test_rmse_errors[:10],label=\"Test\")\n",
    "plt.xlabel(\"Polynomial Complexity\")\n",
    "plt.ylabel(\"RMSE\")\n",
    "plt.legend()"
   ]
  },
  {
   "cell_type": "code",
   "execution_count": 48,
   "metadata": {},
   "outputs": [],
   "source": [
    "final_model=LinearRegression()"
   ]
  },
  {
   "cell_type": "code",
   "execution_count": 49,
   "metadata": {},
   "outputs": [
    {
     "data": {
      "text/plain": [
       "LinearRegression()"
      ]
     },
     "execution_count": 49,
     "metadata": {},
     "output_type": "execute_result"
    }
   ],
   "source": [
    "final_model.fit(X,y)"
   ]
  },
  {
   "cell_type": "code",
   "execution_count": 50,
   "metadata": {},
   "outputs": [],
   "source": [
    "Housing_price= \"Finalised_model.sav\""
   ]
  },
  {
   "cell_type": "code",
   "execution_count": 51,
   "metadata": {},
   "outputs": [],
   "source": [
    "import joblib\n",
    "from joblib import dump,load"
   ]
  },
  {
   "cell_type": "code",
   "execution_count": 52,
   "metadata": {},
   "outputs": [
    {
     "data": {
      "text/plain": [
       "['Finalised_model.sav']"
      ]
     },
     "execution_count": 52,
     "metadata": {},
     "output_type": "execute_result"
    }
   ],
   "source": [
    "joblib.dump(final_model,Housing_price)"
   ]
  }
 ],
 "metadata": {
  "kernelspec": {
   "display_name": "Python 3",
   "language": "python",
   "name": "python3"
  },
  "language_info": {
   "codemirror_mode": {
    "name": "ipython",
    "version": 3
   },
   "file_extension": ".py",
   "mimetype": "text/x-python",
   "name": "python",
   "nbconvert_exporter": "python",
   "pygments_lexer": "ipython3",
   "version": "3.8.5"
  }
 },
 "nbformat": 4,
 "nbformat_minor": 4
}
